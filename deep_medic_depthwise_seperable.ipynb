{
 "cells": [
  {
   "cell_type": "code",
   "execution_count": null,
   "metadata": {},
   "outputs": [],
   "source": [
    "import numpy as np\n",
    "import os\n",
    "import torch.optim as optim\n",
    "import pandas as pd\n",
    "import torch\n",
    "import torch.nn as nn\n",
    "from torch.optim import lr_scheduler\n",
    "import matplotlib.pyplot as plt\n",
    "#from matplotlib import rcParams\n",
    "from time import time\n",
    "\n",
    "from custom_dataset.DeepMedicDataset import DeepMedicDataset, DeepMedicDataset_old2\n",
    "from architectures.DeepMedic_depth import DeepMedic\n",
    "from My_configs import My_configs\n",
    "from train import train_best_medic\n",
    "from data_loaders import my_dataloader\n",
    "from data_loaders import find_dice_score_medic\n",
    "\n",
    "import albumentations as A\n",
    "import albumentations.augmentations.functional as F\n",
    "from albumentations.pytorch import ToTensorV2\n",
    "\n",
    "from train1 import Training\n",
    "from torch.optim.lr_scheduler import ReduceLROnPlateau\n",
    "from losses import ComboLoss, dice_metric, jaccard\n",
    "import time\n",
    "from IPython.display import clear_output\n"
   ]
  },
  {
   "cell_type": "code",
   "execution_count": 2,
   "metadata": {},
   "outputs": [],
   "source": [
    "config = My_configs()\n",
    "config = My_configs()\n",
    "config.dataset_path = '/home/aubingazhibov/brain_tumor/brats_slices_final'\n",
    "config.model_name = './deep_medic_new.pth'\n",
    "\n",
    "config.train_size = 0.70\n",
    "config.batch_size = 6\n",
    "config.criterion = ComboLoss(weights = {'bce': 1,'dice': 1})\n",
    "#config.criterion = jaccard\n",
    "config.epochs = 15\n",
    "config.img_size = 512\n",
    "\n",
    "config.opt = {\n",
    "    'lr': 0.0001,\n",
    "    'weight_decay': 0.00005\n",
    "}\n",
    "config.scd = {\n",
    "    'mode': 'max',\n",
    "    'factor': 0.1,\n",
    "     'patience': 2,\n",
    "    'threshold':0.0000001,\n",
    "    'min_lr':0.0000001\n",
    "}#scheduler\n",
    "    "
   ]
  },
  {
   "cell_type": "code",
   "execution_count": 3,
   "metadata": {},
   "outputs": [],
   "source": [
    "train_transform1 = A.Compose(\n",
    "    [   \n",
    "        A.VerticalFlip(p=0.5),\n",
    "   #     A.Transpose(p=0.5),\n",
    "        A.RandomRotate90(p=0.5),\n",
    "        \n",
    " #       A.RandomGamma(p=0.5),\n",
    "      #  A.Normalize(mean=(0.485, 0.456, 0.406, 0.400), std=(0.229, 0.224, 0.225, 0.220)),\n",
    "        #A.Resize(200, 200, always_apply = True)\n",
    "        A.CenterCrop(height=200, width=200, p=1)\n",
    "        #A.Resize(height=200, width=200, always_apply=True)\n",
    "        # ToTensorV2(),\n",
    "    ]\n",
    ")\n",
    "train_transform2 = A.Compose(\n",
    " [\n",
    "   # A.CenterCrop(p=1, height=120, width=120),\n",
    "   A.Resize(height=120, width=120, always_apply=True),\n",
    " #  ToTensorV2()\n",
    " ]   \n",
    ")\n",
    "\n",
    "val_transform1 = A.Compose(\n",
    "    [  #A.Normalize(mean=(0.485, 0.456, 0.406, 0.400), std=(0.229, 0.224, 0.225, 0.220)),\n",
    " #   ToTensorV2()\n",
    "    ]\n",
    ")\n",
    "\n",
    "\n",
    "data_tr, data_val, val = my_dataloader(config.dataset_path, DeepMedicDataset_old2, train_size = config.train_size, batch_size = config.batch_size, transform1 = train_transform1, transform2 = train_transform2,val_transform1=val_transform1)"
   ]
  },
  {
   "cell_type": "code",
   "execution_count": 4,
   "metadata": {},
   "outputs": [],
   "source": [
    "model = DeepMedic().cuda()\n",
    "model = torch.nn.DataParallel(model)\n",
    "\n",
    "opt = optim.Adam(model.parameters(), lr = config.opt['lr'], weight_decay = config.opt['weight_decay'])\n",
    "\n",
    "scheduler = ReduceLROnPlateau(opt, mode = config.scd['mode'], factor = config.scd['factor'], patience = config.scd['patience'], threshold = config.scd['threshold'], min_lr = config.scd['min_lr'])"
   ]
  },
  {
   "cell_type": "code",
   "execution_count": 5,
   "metadata": {},
   "outputs": [],
   "source": [
    "train_validate = Training(config.criterion, opt, scheduler, config.epochs, dice_metric, is_medic = True)"
   ]
  },
  {
   "cell_type": "code",
   "execution_count": 6,
   "metadata": {},
   "outputs": [
    {
     "name": "stdout",
     "output_type": "stream",
     "text": [
      "epoch: 0, training....\n"
     ]
    },
    {
     "data": {
      "application/vnd.jupyter.widget-view+json": {
       "model_id": "464aaa919f4d4b8dbef2947d3f6127de",
       "version_major": 2,
       "version_minor": 0
      },
      "text/plain": [
       "  0%|          | 0/2875 [00:00<?, ?it/s]"
      ]
     },
     "metadata": {},
     "output_type": "display_data"
    },
    {
     "name": "stderr",
     "output_type": "stream",
     "text": [
      "/home/aubingazhibov/anaconda3/envs/maya/lib/python3.8/site-packages/torch/nn/functional.py:3609: UserWarning: Default upsampling behavior when mode=bilinear is changed to align_corners=False since 0.4.0. Please specify align_corners=True if the old behavior is desired. See the documentation of nn.Upsample for details.\n",
      "  warnings.warn(\n"
     ]
    },
    {
     "name": "stdout",
     "output_type": "stream",
     "text": [
      "epoch: 0, validating....\n",
      "train loss is 0.405 and validation dice is 0.719\n",
      "\n",
      " ----------------------------------------------------------------\n",
      "epoch: 1, training....\n"
     ]
    },
    {
     "data": {
      "application/vnd.jupyter.widget-view+json": {
       "model_id": "47a74b5e236c49cabfaae0c4cc07b14f",
       "version_major": 2,
       "version_minor": 0
      },
      "text/plain": [
       "  0%|          | 0/2875 [00:00<?, ?it/s]"
      ]
     },
     "metadata": {},
     "output_type": "display_data"
    },
    {
     "name": "stdout",
     "output_type": "stream",
     "text": [
      "epoch: 1, validating....\n",
      "train loss is 0.250 and validation dice is 0.726\n",
      "\n",
      " ----------------------------------------------------------------\n",
      "epoch: 2, training....\n"
     ]
    },
    {
     "data": {
      "application/vnd.jupyter.widget-view+json": {
       "model_id": "3677025bc75c40e69b43115d5d7ecee1",
       "version_major": 2,
       "version_minor": 0
      },
      "text/plain": [
       "  0%|          | 0/2875 [00:00<?, ?it/s]"
      ]
     },
     "metadata": {},
     "output_type": "display_data"
    },
    {
     "name": "stdout",
     "output_type": "stream",
     "text": [
      "epoch: 2, validating....\n",
      "train loss is 0.230 and validation dice is 0.738\n",
      "\n",
      " ----------------------------------------------------------------\n",
      "epoch: 3, training....\n"
     ]
    },
    {
     "data": {
      "application/vnd.jupyter.widget-view+json": {
       "model_id": "fee35d339791455087c9ce75a85c43e2",
       "version_major": 2,
       "version_minor": 0
      },
      "text/plain": [
       "  0%|          | 0/2875 [00:00<?, ?it/s]"
      ]
     },
     "metadata": {},
     "output_type": "display_data"
    },
    {
     "name": "stdout",
     "output_type": "stream",
     "text": [
      "epoch: 3, validating....\n",
      "train loss is 0.218 and validation dice is 0.732\n",
      "\n",
      " ----------------------------------------------------------------\n",
      "epoch: 4, training....\n"
     ]
    },
    {
     "data": {
      "application/vnd.jupyter.widget-view+json": {
       "model_id": "da89f52ad8584fa2b29719e3570e3ee3",
       "version_major": 2,
       "version_minor": 0
      },
      "text/plain": [
       "  0%|          | 0/2875 [00:00<?, ?it/s]"
      ]
     },
     "metadata": {},
     "output_type": "display_data"
    },
    {
     "name": "stdout",
     "output_type": "stream",
     "text": [
      "epoch: 4, validating....\n",
      "train loss is 0.211 and validation dice is 0.734\n",
      "\n",
      " ----------------------------------------------------------------\n",
      "epoch: 5, training....\n"
     ]
    },
    {
     "data": {
      "application/vnd.jupyter.widget-view+json": {
       "model_id": "cb9023aff47c47f0892821aee865f318",
       "version_major": 2,
       "version_minor": 0
      },
      "text/plain": [
       "  0%|          | 0/2875 [00:00<?, ?it/s]"
      ]
     },
     "metadata": {},
     "output_type": "display_data"
    },
    {
     "name": "stdout",
     "output_type": "stream",
     "text": [
      "epoch: 5, validating....\n",
      "train loss is 0.203 and validation dice is 0.724\n",
      "\n",
      " ----------------------------------------------------------------\n",
      "epoch: 6, training....\n"
     ]
    },
    {
     "data": {
      "application/vnd.jupyter.widget-view+json": {
       "model_id": "af3992af88c642e7a8fe674dd4e4faff",
       "version_major": 2,
       "version_minor": 0
      },
      "text/plain": [
       "  0%|          | 0/2875 [00:00<?, ?it/s]"
      ]
     },
     "metadata": {},
     "output_type": "display_data"
    },
    {
     "name": "stdout",
     "output_type": "stream",
     "text": [
      "epoch: 6, validating....\n",
      "train loss is 0.196 and validation dice is 0.737\n",
      "\n",
      " ----------------------------------------------------------------\n",
      "epoch: 7, training....\n"
     ]
    },
    {
     "data": {
      "application/vnd.jupyter.widget-view+json": {
       "model_id": "90310d08c1794c1bb35e600bbfa13835",
       "version_major": 2,
       "version_minor": 0
      },
      "text/plain": [
       "  0%|          | 0/2875 [00:00<?, ?it/s]"
      ]
     },
     "metadata": {},
     "output_type": "display_data"
    },
    {
     "name": "stdout",
     "output_type": "stream",
     "text": [
      "epoch: 7, validating....\n",
      "train loss is 0.194 and validation dice is 0.739\n",
      "\n",
      " ----------------------------------------------------------------\n",
      "epoch: 8, training....\n"
     ]
    },
    {
     "data": {
      "application/vnd.jupyter.widget-view+json": {
       "model_id": "9a8f095a6d314c259a973184b476b415",
       "version_major": 2,
       "version_minor": 0
      },
      "text/plain": [
       "  0%|          | 0/2875 [00:00<?, ?it/s]"
      ]
     },
     "metadata": {},
     "output_type": "display_data"
    },
    {
     "name": "stdout",
     "output_type": "stream",
     "text": [
      "epoch: 8, validating....\n",
      "train loss is 0.194 and validation dice is 0.735\n",
      "\n",
      " ----------------------------------------------------------------\n",
      "epoch: 9, training....\n"
     ]
    },
    {
     "data": {
      "application/vnd.jupyter.widget-view+json": {
       "model_id": "5c4cb73b74204ffa9e7d67e36951ca70",
       "version_major": 2,
       "version_minor": 0
      },
      "text/plain": [
       "  0%|          | 0/2875 [00:00<?, ?it/s]"
      ]
     },
     "metadata": {},
     "output_type": "display_data"
    },
    {
     "name": "stdout",
     "output_type": "stream",
     "text": [
      "epoch: 9, validating....\n",
      "train loss is 0.193 and validation dice is 0.731\n",
      "\n",
      " ----------------------------------------------------------------\n",
      "epoch: 10, training....\n"
     ]
    },
    {
     "data": {
      "application/vnd.jupyter.widget-view+json": {
       "model_id": "91ba080011b44c2e9acfb58f41582cc3",
       "version_major": 2,
       "version_minor": 0
      },
      "text/plain": [
       "  0%|          | 0/2875 [00:00<?, ?it/s]"
      ]
     },
     "metadata": {},
     "output_type": "display_data"
    },
    {
     "name": "stdout",
     "output_type": "stream",
     "text": [
      "epoch: 10, validating....\n",
      "train loss is 0.192 and validation dice is 0.731\n",
      "\n",
      " ----------------------------------------------------------------\n",
      "epoch: 11, training....\n"
     ]
    },
    {
     "data": {
      "application/vnd.jupyter.widget-view+json": {
       "model_id": "a0ae73c861c54906a720e47bf84d9dc3",
       "version_major": 2,
       "version_minor": 0
      },
      "text/plain": [
       "  0%|          | 0/2875 [00:00<?, ?it/s]"
      ]
     },
     "metadata": {},
     "output_type": "display_data"
    },
    {
     "name": "stdout",
     "output_type": "stream",
     "text": [
      "epoch: 11, validating....\n",
      "train loss is 0.192 and validation dice is 0.739\n",
      "\n",
      " ----------------------------------------------------------------\n",
      "epoch: 12, training....\n"
     ]
    },
    {
     "data": {
      "application/vnd.jupyter.widget-view+json": {
       "model_id": "db3c068b58ef428cac5afa029caf73a0",
       "version_major": 2,
       "version_minor": 0
      },
      "text/plain": [
       "  0%|          | 0/2875 [00:00<?, ?it/s]"
      ]
     },
     "metadata": {},
     "output_type": "display_data"
    },
    {
     "name": "stdout",
     "output_type": "stream",
     "text": [
      "epoch: 12, validating....\n",
      "train loss is 0.192 and validation dice is 0.741\n",
      "\n",
      " ----------------------------------------------------------------\n",
      "epoch: 13, training....\n"
     ]
    },
    {
     "data": {
      "application/vnd.jupyter.widget-view+json": {
       "model_id": "c11230c6892c491a97822ef83914b80f",
       "version_major": 2,
       "version_minor": 0
      },
      "text/plain": [
       "  0%|          | 0/2875 [00:00<?, ?it/s]"
      ]
     },
     "metadata": {},
     "output_type": "display_data"
    },
    {
     "name": "stdout",
     "output_type": "stream",
     "text": [
      "epoch: 13, validating....\n",
      "train loss is 0.192 and validation dice is 0.739\n",
      "\n",
      " ----------------------------------------------------------------\n",
      "epoch: 14, training....\n"
     ]
    },
    {
     "data": {
      "application/vnd.jupyter.widget-view+json": {
       "model_id": "6d3e038e44624401869be6c1ae0f97bc",
       "version_major": 2,
       "version_minor": 0
      },
      "text/plain": [
       "  0%|          | 0/2875 [00:00<?, ?it/s]"
      ]
     },
     "metadata": {},
     "output_type": "display_data"
    },
    {
     "name": "stdout",
     "output_type": "stream",
     "text": [
      "epoch: 14, validating....\n",
      "train loss is 0.191 and validation dice is 0.728\n",
      "\n",
      " ----------------------------------------------------------------\n",
      "best dice score was achieved 0.741 in epoch number 12\n"
     ]
    }
   ],
   "source": [
    "model = train_validate.run_train(model, data_tr, data_val,val)"
   ]
  },
  {
   "cell_type": "code",
   "execution_count": 7,
   "metadata": {},
   "outputs": [],
   "source": [
    "config.model_name = './new_models/deep_depthwise_oldcustom_bce1dice1_july24.pth'\n",
    "torch.save(model.state_dict(), config.model_name)"
   ]
  },
  {
   "cell_type": "code",
   "execution_count": null,
   "metadata": {},
   "outputs": [],
   "source": []
  },
  {
   "cell_type": "code",
   "execution_count": null,
   "metadata": {},
   "outputs": [],
   "source": []
  },
  {
   "cell_type": "code",
   "execution_count": 8,
   "metadata": {},
   "outputs": [
    {
     "name": "stdout",
     "output_type": "stream",
     "text": [
      "threshold = 0.1, mean = 0.7131313090812352, std = 0.27293113663795543\n",
      "threshold = 0.2, mean = 0.7280730221021966, std = 0.27229616325645567\n",
      "threshold = 0.3, mean = 0.7348851749376145, std = 0.2723168697081819\n",
      "threshold = 0.4, mean = 0.7383991019249071, std = 0.2729554728658614\n",
      "threshold = 0.5, mean = 0.7406136784082242, std = 0.27384386874478567\n",
      "threshold = 0.6, mean = 0.7429528436940612, std = 0.27331430067909546\n",
      "threshold = 0.7, mean = 0.7439986098501415, std = 0.27442758208230383\n",
      "threshold = 0.8, mean = 0.745299758662105, std = 0.2742940589468059\n",
      "threshold = 0.9, mean = 0.7456574476300006, std = 0.27526454306456327\n"
     ]
    }
   ],
   "source": [
    "thresholds = [0.1, 0.2, 0.3, 0.4, 0.5, 0.6, 0.7, 0.8, 0.9]\n",
    "#hr - 80, lr - 40\n",
    "for i in range(len(thresholds)):\n",
    "    \n",
    "    mean, std = find_dice_score_medic(model, val, thresholds[i])\n",
    "    print(f'threshold = {thresholds[i]}, mean = {mean}, std = {std}')\n",
    "    #threshold += 0.1"
   ]
  },
  {
   "cell_type": "code",
   "execution_count": null,
   "metadata": {},
   "outputs": [],
   "source": []
  },
  {
   "cell_type": "code",
   "execution_count": null,
   "metadata": {},
   "outputs": [],
   "source": []
  },
  {
   "cell_type": "code",
   "execution_count": null,
   "metadata": {},
   "outputs": [],
   "source": []
  },
  {
   "cell_type": "code",
   "execution_count": null,
   "metadata": {},
   "outputs": [],
   "source": []
  },
  {
   "cell_type": "code",
   "execution_count": null,
   "metadata": {},
   "outputs": [],
   "source": []
  },
  {
   "cell_type": "code",
   "execution_count": null,
   "metadata": {},
   "outputs": [],
   "source": []
  },
  {
   "cell_type": "code",
   "execution_count": null,
   "metadata": {},
   "outputs": [],
   "source": []
  }
 ],
 "metadata": {
  "kernelspec": {
   "display_name": "Python 3",
   "language": "python",
   "name": "python3"
  },
  "language_info": {
   "codemirror_mode": {
    "name": "ipython",
    "version": 3
   },
   "file_extension": ".py",
   "mimetype": "text/x-python",
   "name": "python",
   "nbconvert_exporter": "python",
   "pygments_lexer": "ipython3",
   "version": "3.8.3"
  },
  "toc": {
   "base_numbering": 1,
   "nav_menu": {},
   "number_sections": true,
   "sideBar": true,
   "skip_h1_title": false,
   "title_cell": "Table of Contents",
   "title_sidebar": "Contents",
   "toc_cell": false,
   "toc_position": {},
   "toc_section_display": true,
   "toc_window_display": false
  },
  "varInspector": {
   "cols": {
    "lenName": 16,
    "lenType": 16,
    "lenVar": 40
   },
   "kernels_config": {
    "python": {
     "delete_cmd_postfix": "",
     "delete_cmd_prefix": "del ",
     "library": "var_list.py",
     "varRefreshCmd": "print(var_dic_list())"
    },
    "r": {
     "delete_cmd_postfix": ") ",
     "delete_cmd_prefix": "rm(",
     "library": "var_list.r",
     "varRefreshCmd": "cat(var_dic_list()) "
    }
   },
   "types_to_exclude": [
    "module",
    "function",
    "builtin_function_or_method",
    "instance",
    "_Feature"
   ],
   "window_display": false
  }
 },
 "nbformat": 4,
 "nbformat_minor": 4
}
