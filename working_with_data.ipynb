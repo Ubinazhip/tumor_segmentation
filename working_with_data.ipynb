{
 "cells": [
  {
   "cell_type": "markdown",
   "metadata": {},
   "source": [
    "# Data"
   ]
  },
  {
   "cell_type": "code",
   "execution_count": 1,
   "metadata": {},
   "outputs": [],
   "source": [
    "from nibabel import load\n",
    "import pandas as pd \n",
    "from pathlib import Path\n",
    "from dpipe.im.visualize import slice3d\n",
    "#path = '/home/aslan/Documents/self_study/hse2020_projects/training_data/survival_info.csv'\n",
    "#fl = pd.read_csv(path)\n",
    "folder = Path('/home/aubingazhibov/training_data/')\n",
    "i = 5\n",
    "img_flair = load(folder / f'BraTS20_Training_00{i}' / f'BraTS20_Training_00{i}_flair.nii.gz')\n",
    "img_t1 = load(folder / f'BraTS20_Training_00{i}' / f'BraTS20_Training_00{i}_t1.nii.gz')\n",
    "img_t2 = load(folder / f'BraTS20_Training_00{i}' / f'BraTS20_Training_00{i}_t2.nii.gz')\n",
    "img_t1c = load(folder / f'BraTS20_Training_00{i}' / f'BraTS20_Training_00{i}_t1ce.nii.gz')\n",
    "mask = load(folder / f'BraTS20_Training_00{i}' / f'BraTS20_Training_00{i}_seg.nii.gz')\n",
    "pixel_array_flair = img_flair.get_fdata()\n",
    "pixel_array_t1 = img_t1.get_fdata()\n",
    "pixel_array_t2 = img_t2.get_fdata()\n",
    "pixel_array_t1c = img_t1c.get_fdata()\n",
    "pixel_array_mask = mask.get_fdata()"
   ]
  },
  {
   "cell_type": "code",
   "execution_count": 3,
   "metadata": {},
   "outputs": [
    {
     "data": {
      "text/plain": [
       "(240, 240, 155)"
      ]
     },
     "execution_count": 3,
     "metadata": {},
     "output_type": "execute_result"
    }
   ],
   "source": [
    "pixel_array_flair.shape"
   ]
  },
  {
   "cell_type": "code",
   "execution_count": 11,
   "metadata": {},
   "outputs": [
    {
     "data": {
      "application/vnd.jupyter.widget-view+json": {
       "model_id": "9d6c4f7d3b644524ae0a4e39e88baf8f",
       "version_major": 2,
       "version_minor": 0
      },
      "text/plain": [
       "interactive(children=(IntSlider(value=0, continuous_update=False, description='idx', max=154), Output()), _dom…"
      ]
     },
     "metadata": {},
     "output_type": "display_data"
    }
   ],
   "source": [
    "slice3d(pixel_array_flair, pixel_array_t1,\n",
    "        pixel_array_t2, pixel_array_t1c, \n",
    "        pixel_array_mask,\n",
    "        max_columns=5)"
   ]
  },
  {
   "cell_type": "code",
   "execution_count": 3,
   "metadata": {},
   "outputs": [
    {
     "data": {
      "application/vnd.jupyter.widget-view+json": {
       "model_id": "459f6be7589b424bbd00917a8880950b",
       "version_major": 2,
       "version_minor": 0
      },
      "text/plain": [
       "interactive(children=(IntSlider(value=0, continuous_update=False, description='idx', max=154), Output()), _dom…"
      ]
     },
     "metadata": {},
     "output_type": "display_data"
    }
   ],
   "source": [
    "slice3d(pixel_array_t1, pixel_array_t2,\n",
    "\n",
    "        max_columns=2)"
   ]
  },
  {
   "cell_type": "code",
   "execution_count": 4,
   "metadata": {},
   "outputs": [
    {
     "data": {
      "application/vnd.jupyter.widget-view+json": {
       "model_id": "a81e0e4a2bd24934a9d43d6597eb770f",
       "version_major": 2,
       "version_minor": 0
      },
      "text/plain": [
       "interactive(children=(IntSlider(value=0, continuous_update=False, description='idx', max=154), Output()), _dom…"
      ]
     },
     "metadata": {},
     "output_type": "display_data"
    }
   ],
   "source": [
    "slice3d(pixel_array_mask)"
   ]
  },
  {
   "cell_type": "markdown",
   "metadata": {},
   "source": [
    "# Extract the data(5 types: mask, t1, t1ce,t2, flair)"
   ]
  },
  {
   "cell_type": "code",
   "execution_count": null,
   "metadata": {},
   "outputs": [],
   "source": [
    "import numpy as np\n",
    "from tqdm import tqdm\n",
    "import nibabel\n",
    "from pathlib import Path\n",
    "\n",
    "data_folder = Path('/home/aubingazhibov/training_data/')\n",
    "target_folder = Path('/home/aubingazhibov/brats_slices_final/')\n",
    "\n",
    "for subdir in tqdm(data_folder.glob('*')):\n",
    "    file = subdir.stem\n",
    "      \n",
    "    if file != 'name_mapping' and file != 'survival_info':\n",
    "\n",
    " \n",
    "      img_flair = nibabel.load(subdir / f'{file}_flair.nii.gz').get_fdata()\n",
    "      img_t1 = nibabel.load(subdir / f'{file}_t1.nii.gz').get_fdata()\n",
    "      img_t1ce = nibabel.load(subdir / f'{file}_t1ce.nii.gz').get_fdata()\n",
    "      img_t2 = nibabel.load(subdir / f'{file}_t2.nii.gz').get_fdata()\n",
    "      mask = nibabel.load(subdir / f'{file}_seg.nii.gz').get_fdata()\n",
    "      nonzero = np.nonzero(np.sum(img_flair, (0, 1)))[0]\n",
    "      subfolder = target_folder / file\n",
    "      subfolder.mkdir()\n",
    "      for i in nonzero:        \n",
    "          np.save(subfolder / f'{i}_flair.npy', img_flair[..., i].astype(np.float32), )\n",
    "          np.save(subfolder / f'{i}_t1.npy', img_t1[..., i].astype(np.float32), )\n",
    "          np.save(subfolder / f'{i}_t1ce.npy', img_t1ce[..., i].astype(np.float32), )\n",
    "          np.save(subfolder / f'{i}_t2.npy', img_t2[..., i].astype(np.float32), )\n",
    "          np.save(subfolder / f'{i}_mask.npy', mask[..., i].astype(bool), )\n"
   ]
  },
  {
   "cell_type": "code",
   "execution_count": 2,
   "metadata": {},
   "outputs": [
    {
     "name": "stderr",
     "output_type": "stream",
     "text": [
      "371it [10:43,  1.73s/it]\n"
     ]
    }
   ],
   "source": [
    "import numpy as np\n",
    "from tqdm import tqdm\n",
    "import nibabel\n",
    "from pathlib import Path\n",
    "\n",
    "data_folder = Path('/home/aubingazhibov/training_data/')\n",
    "target_folder = Path('/home/aubingazhibov/brats_slices/')\n",
    "\n",
    "for subdir in tqdm(data_folder.glob('*')):\n",
    "    file = subdir.stem\n",
    "      \n",
    "    if file != 'name_mapping' and file != 'survival_info':\n",
    "\n",
    " \n",
    "      img_flair = nibabel.load(subdir / f'{file}_flair.nii.gz').get_fdata()\n",
    "      mask = nibabel.load(subdir / f'{file}_seg.nii.gz').get_fdata()\n",
    "      nonzero = np.nonzero(np.sum(img_flair, (0, 1)))[0]\n",
    "      subfolder = target_folder / file\n",
    "      subfolder.mkdir()\n",
    "      for i in nonzero:        \n",
    "          np.save(subfolder / f'{i}.npy', img_flair[..., i].astype(np.float32), )\n",
    "          np.save(subfolder / f'{i}_mask.npy', mask[..., i].astype(bool), )\n"
   ]
  },
  {
   "cell_type": "code",
   "execution_count": 7,
   "metadata": {},
   "outputs": [
    {
     "name": "stderr",
     "output_type": "stream",
     "text": [
      "370it [01:01,  6.00it/s]\n"
     ]
    },
    {
     "name": "stdout",
     "output_type": "stream",
     "text": [
      "False    26422\n",
      "True     24422\n",
      "Name: is_nonzero_mask, dtype: int64\n"
     ]
    }
   ],
   "source": [
    "import os\n",
    "import pandas as pd\n",
    "from dpipe.io import load_numpy\n",
    "data_folder = Path('/home/aubingazhibov/brats_slices/')\n",
    "df = []\n",
    "cnt = 0\n",
    "for path, _, files in tqdm(os.walk(data_folder)):\n",
    "    for file in files:\n",
    "        subject_id = path.split('/')[-1].split('_')[-1]\n",
    "        slice_id = file.split('.')[0].split('_')[0]\n",
    "       # type_img = file.split('_')[1].split('.')[0]\n",
    "        sample_id = f\"{subject_id}_{slice_id}\" # SubjectID_SliceIndex\n",
    "        is_mask = 'mask' in file\n",
    "        if is_mask:\n",
    "            mask = load_numpy(Path(path) / file, allow_pickle=True)\n",
    "            is_nonzero_mask =  np.any(mask)\n",
    "        else:\n",
    "            is_nonzero_mask = np.nan\n",
    "        \n",
    "        df.append([Path(Path(path).stem) / file, sample_id, is_mask, subject_id, is_nonzero_mask])\n",
    "    \n",
    "    \n",
    "df = pd.DataFrame(df, columns = ['relative_path','sample_id', 'is_mask', 'subject_id', 'is_nonzero_mask'])\n",
    "print(df.is_nonzero_mask.value_counts())\n",
    "\n",
    "df.to_csv(data_folder / 'meta.csv')"
   ]
  },
  {
   "cell_type": "code",
   "execution_count": null,
   "metadata": {},
   "outputs": [],
   "source": []
  },
  {
   "cell_type": "markdown",
   "metadata": {},
   "source": [
    "# Creating CSV"
   ]
  },
  {
   "cell_type": "code",
   "execution_count": null,
   "metadata": {},
   "outputs": [],
   "source": [
    "data_folder = Path('/home/aubingazhibov/brats_slices_final/')\n",
    "df = []\n",
    "cnt = 0\n",
    "for path, _, files in tqdm(os.walk(data_folder)):\n",
    "    for file in files:\n",
    "        subject_id = path.split('/')[-1].split('_')[-1]\n",
    "        slice_id = file.split('.')[0].split('_')[0]\n",
    "        type_img = file.split('_')[1].split('.')[0]\n",
    "        sample_id = f\"{subject_id}_{slice_id}\" # SubjectID_SliceIndex\n",
    "        is_mask = 'mask' in file\n",
    "        if is_mask:\n",
    "            mask = load_numpy(Path(path) / file, allow_pickle=True)\n",
    "            is_nonzero_mask =  np.any(mask)\n",
    "        else:\n",
    "            is_nonzero_mask = np.nan\n",
    "        \n",
    "        df.append([Path(Path(path).stem) / file, type_img, sample_id, is_mask, subject_id, is_nonzero_mask])\n",
    "    \n",
    "    \n",
    "df = pd.DataFrame(df, columns = ['relative_path','img_type', 'sample_id', 'is_mask', 'subject_id', 'is_nonzero_mask'])\n",
    "print(df.is_nonzero_mask.value_counts())\n",
    "\n",
    "df.to_csv(data_folder / 'meta.csv')"
   ]
  },
  {
   "cell_type": "code",
   "execution_count": null,
   "metadata": {},
   "outputs": [],
   "source": [
    "data_folder = Path('/home/aubingazhibov/brats_slices_final')\n",
    "df = pd.read_csv(data_folder / 'meta.csv', index_col=0)\n",
    "df.sample(10)"
   ]
  },
  {
   "cell_type": "code",
   "execution_count": null,
   "metadata": {},
   "outputs": [],
   "source": []
  },
  {
   "cell_type": "code",
   "execution_count": null,
   "metadata": {},
   "outputs": [],
   "source": []
  },
  {
   "cell_type": "code",
   "execution_count": null,
   "metadata": {},
   "outputs": [],
   "source": []
  },
  {
   "cell_type": "code",
   "execution_count": null,
   "metadata": {},
   "outputs": [],
   "source": []
  }
 ],
 "metadata": {
  "kernelspec": {
   "display_name": "Python 3",
   "language": "python",
   "name": "python3"
  },
  "language_info": {
   "codemirror_mode": {
    "name": "ipython",
    "version": 3
   },
   "file_extension": ".py",
   "mimetype": "text/x-python",
   "name": "python",
   "nbconvert_exporter": "python",
   "pygments_lexer": "ipython3",
   "version": "3.8.3"
  },
  "toc": {
   "base_numbering": 1,
   "nav_menu": {},
   "number_sections": true,
   "sideBar": true,
   "skip_h1_title": false,
   "title_cell": "Table of Contents",
   "title_sidebar": "Contents",
   "toc_cell": false,
   "toc_position": {},
   "toc_section_display": true,
   "toc_window_display": false
  },
  "varInspector": {
   "cols": {
    "lenName": 16,
    "lenType": 16,
    "lenVar": 40
   },
   "kernels_config": {
    "python": {
     "delete_cmd_postfix": "",
     "delete_cmd_prefix": "del ",
     "library": "var_list.py",
     "varRefreshCmd": "print(var_dic_list())"
    },
    "r": {
     "delete_cmd_postfix": ") ",
     "delete_cmd_prefix": "rm(",
     "library": "var_list.r",
     "varRefreshCmd": "cat(var_dic_list()) "
    }
   },
   "types_to_exclude": [
    "module",
    "function",
    "builtin_function_or_method",
    "instance",
    "_Feature"
   ],
   "window_display": false
  }
 },
 "nbformat": 4,
 "nbformat_minor": 4
}
